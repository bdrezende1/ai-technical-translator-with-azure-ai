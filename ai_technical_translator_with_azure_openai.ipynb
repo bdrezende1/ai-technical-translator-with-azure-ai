{
  "nbformat": 4,
  "nbformat_minor": 0,
  "metadata": {
    "colab": {
      "provenance": [],
      "authorship_tag": "ABX9TyPRquvtm1pxlOpgkSBdAnkE"
    },
    "kernelspec": {
      "name": "python3",
      "display_name": "Python 3"
    },
    "language_info": {
      "name": "python"
    }
  },
  "cells": [
    {
      "cell_type": "code",
      "execution_count": null,
      "metadata": {
        "id": "sJhLDGhTKDWu"
      },
      "outputs": [],
      "source": [
        "!pip install requests beautifulsoup4 openai langchain-openai"
      ]
    },
    {
      "cell_type": "code",
      "source": [
        "import requests\n",
        "from bs4 import BeautifulSoup\n",
        "\n",
        "def extract_text_from_url(url):\n",
        "    response = requests.get(url)\n",
        "\n",
        "    if response.status_code == 200:\n",
        "        soup = BeautifulSoup(response.text, 'html.parser')\n",
        "        for script_or_style in soup(['script', 'style']):\n",
        "          script_or_style.decompose()\n",
        "        text = soup.get_text(separator = ' ')\n",
        "\n",
        "        lines = (line.strip() for line in text.splitlines())\n",
        "        chunks = (phrase.strip() for line in lines for phrase in line.split(\"  \"))\n",
        "        text_cleaned = '\\n'.join(chunk for chunk in chunks if chunk)\n",
        "        return text_cleaned\n",
        "    else:\n",
        "        print(f\"Failed to retrieve the webpage. Status code: {response.status_code}\")\n",
        "        return None\n",
        "\n",
        "extract_text_from_url('https://dev.to/thecognitiveservicesninja/azure-openai-services-mastering-the-art-of-text-creation-and-modification-2bkk')"
      ],
      "metadata": {
        "id": "hOeig-J4KnBa"
      },
      "execution_count": null,
      "outputs": []
    },
    {
      "cell_type": "code",
      "source": [
        "from langchain_openai.chat_models.azure import AzureChatOpenAI\n",
        "\n",
        "client = AzureChatOpenAI (\n",
        "    azure_endpoint= \"https://ai-technical-translator-with-azure-openai-dev-eastus-001.openai.azure.com/\",\n",
        "    api_key= \"abbe9b1f6c9b8f90943481985d5407d01f38c86e\",\n",
        "    api_version= \"2024-02-15-preview\",\n",
        "    deployment_name= \"gpt-4o-mini\",\n",
        "    max_retries=0\n",
        ")\n",
        "\n",
        "def translate_article(text, lang):\n",
        "  messages = [\n",
        "      (\"system\" , \"Você atua como tradutor de tesxtos\"),\n",
        "      (\"user\" , f\"Traduza o {text} para o idioma {lang} e responda em mardown\")\n",
        "  ]\n",
        "\n",
        "  response = client.invoke(messages)\n",
        "  print(response.content)\n",
        "  return response.content\n",
        "\n",
        "translate_article(\"In conclusion, the Azure OpenAI service is a powerful tool for generating and manipulating text.\", \"pt-br\")"
      ],
      "metadata": {
        "id": "RaK_D238MXB8"
      },
      "execution_count": null,
      "outputs": []
    },
    {
      "cell_type": "code",
      "source": [
        "url = \"https://dev.to/thecognitiveservicesninja/azure-openai-services-mastering-the-art-of-text-creation-and-modification-2bkk\"\n",
        "text = extract_text_from_url(url)\n",
        "article = translate_article(text, \"pt-br\")\n",
        "\n",
        "print(article)"
      ],
      "metadata": {
        "id": "rw3LbU9jQZD_"
      },
      "execution_count": null,
      "outputs": []
    }
  ]
}